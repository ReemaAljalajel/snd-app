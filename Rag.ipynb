{
 "cells": [
  {
   "cell_type": "code",
   "execution_count": null,
   "metadata": {},
   "outputs": [
    {
     "data": {
      "text/plain": [
       "True"
      ]
     },
     "execution_count": 1,
     "metadata": {},
     "output_type": "execute_result"
    }
   ],
   "source": [
    "import os\n",
    "from langchain.vectorstores import Chroma\n",
    "from langchain.embeddings import OpenAIEmbeddings\n",
    "from langchain.text_splitter import RecursiveCharacterTextSplitter\n",
    "from langchain.llms import OpenAI\n",
    "from langchain.chains import RetrievalQA\n",
    "from langchain.document_loaders import TextLoader\n",
    "from langchain.document_loaders import DirectoryLoader\n",
    "\n",
    "from dotenv import load_dotenv, dotenv_values \n",
    "\n",
    "\n",
    "load_dotenv(dotenv_path=\".env\",override=True)"
   ]
  },
  {
   "cell_type": "code",
   "execution_count": null,
   "metadata": {},
   "outputs": [],
   "source": [
    "# Directory where the database will be saved for persistence\n",
    "persist_directory = 'db'\n",
    "\n",
    "# Load text files\n",
    "loader = DirectoryLoader('./RAG', glob=\"./*.txt\", loader_cls=TextLoader)\n"
   ]
  },
  {
   "cell_type": "code",
   "execution_count": null,
   "metadata": {},
   "outputs": [],
   "source": [
    "# Load the documents using the DirectoryLoader\n",
    "documents = loader.load()\n",
    "\n",
    "# Initialize theOpenAI embedding \n",
    "embedding = OpenAIEmbeddings()\n",
    "\n"
   ]
  },
  {
   "cell_type": "code",
   "execution_count": null,
   "metadata": {},
   "outputs": [],
   "source": [
    "# Create a Chroma vector database from the loaded documents\n",
    "vectordb = Chroma.from_documents(documents=documents,\n",
    "                                 embedding=embedding,\n",
    "                                  persist_directory='db' \n",
    ")\n",
    "\n"
   ]
  },
  {
   "cell_type": "code",
   "execution_count": 5,
   "metadata": {},
   "outputs": [],
   "source": [
    "# persiste the db to disk\n",
    "vectordb.persist()\n",
    "vectordb = None"
   ]
  },
  {
   "cell_type": "code",
   "execution_count": 6,
   "metadata": {},
   "outputs": [
    {
     "name": "stdout",
     "output_type": "stream",
     "text": [
      "<class 'langchain_core.documents.base.Document'> page_content='﻿Title: Stress\n",
      "​​\n",
      "stress definition:\n",
      "Stress can be defined as a state of worry or mental tension caused by a difficult situation. Stress is a natural human response that prompts us to address challenges and threats in our lives. Everyone experiences stress to some degree. The way we respond to stress, however, makes a big difference to our overall well-being.\n",
      "\n",
      "How stress affect us:\n",
      "Stress affects both the mind and the body. A little bit of stress is good and can help us perform daily activities. Too much stress can cause physical and mental health problems. Learning how to cope with stress can help us feel less overwhelmed and support our mental and physical well-being.\n",
      "\n",
      "Symptoms of stress:\n",
      "Stress makes it hard for us to relax and can come with a range of emotions, including anxiety and irritability. When stressed, we may find it difficult to concentrate. We may experience headaches or other body pains, an upset stomach or trouble sleeping. We may find we lose our appetite or eat more than usual. \n",
      "\n",
      "Possible causes of stress:\n",
      "Stress affects people differently. Moreover, the causes of stress vary from a person to another, and the level of stress that you feel comfortable with may be higher or lower for others around you. Tense feelings usually occur when we feel that we do not have the resources to manage the challenges we face. Stress at work, school, home, illness, or difficult or sudden life events can lead to stress. Some possible causes include:\n",
      "• Individual genetics, upbringing, and experience.\n",
      "• Personal life and relationship difficulties.\n",
      "• Major or unexpected life changes (e.g. moving out, having a baby, starting to look after someone).\n",
      "• Financial difficulties (e.g. debt, or struggles to afford daily necessities).\n",
      "• Difficult or unstable work environment.\n",
      "• A feeling of loneliness and lack of support. \n",
      "• Loss in all its forms, whether a loved one, a job, etc.\n",
      "\n",
      "\n",
      "How to manage and deal with stress?\n",
      "• Eliminate stress triggers: You can't always escape stressful situations or avoid a problem; however, stress reduction can be attempted by assessing whether the stressful situation can be changed, perhaps by giving up some responsibility, lowering standards, or asking for help.\n",
      "• Social support: Strong social support can improve stress resilience. Some friends or family members may be good at listening; so try to get help from those closest to you.\n",
      "• Getting good nutrition: When faced with stress, the central nervous system releases adrenaline and cortisol. This affects the digestive system. Moreover, acute stress can kill your appetite. But the secretion of the hormone cortisol during chronic stress can cause cravings for fat and sugar.\n",
      "• Relaxing muscles:  Since stress causes muscle tension, it can lead to back pain and general fatigue. So it is best to combat stress and its symptoms through stretching exercises, massages, warm baths, or progressive muscle relaxation. It is a method that has been shown to reduce anxiety and improve mental health in general.\n",
      "• Maintaining quiet sleep: Stress during the day affects sleep at night. Losing can affect perception and mood.\n",
      "• Physical fitness:  Regular physical activity not only improves sleep; but also directly combats stress.\n",
      "• Maintaining fun activities and hobbies: When life gets tough people often leave their leisure activities. But isolating yourself from pleasure can be counter-productive. Therefore, opportunities to engage in hobbies and enjoyable activities should be seized.\n",
      "• Asking for help: When you feel overwhelmed and know self-help has not been helpful, find a psychologist or other mental health providers who can help you learn how to effectively manage stress. \n",
      "\n",
      "\n",
      "' metadata={'source': 'RAG/Stress.txt'}\n"
     ]
    }
   ],
   "source": [
    "print(type(documents[0]), documents[0])\n"
   ]
  },
  {
   "cell_type": "markdown",
   "metadata": {},
   "source": []
  }
 ],
 "metadata": {
  "kernelspec": {
   "display_name": "base",
   "language": "python",
   "name": "python3"
  },
  "language_info": {
   "codemirror_mode": {
    "name": "ipython",
    "version": 3
   },
   "file_extension": ".py",
   "mimetype": "text/x-python",
   "name": "python",
   "nbconvert_exporter": "python",
   "pygments_lexer": "ipython3",
   "version": "3.12.7"
  }
 },
 "nbformat": 4,
 "nbformat_minor": 2
}
