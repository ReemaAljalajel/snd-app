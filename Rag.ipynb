{
 "cells": [
  {
   "cell_type": "code",
   "execution_count": null,
   "metadata": {},
   "outputs": [
    {
     "data": {
      "text/plain": [
       "True"
      ]
     },
     "execution_count": 1,
     "metadata": {},
     "output_type": "execute_result"
    }
   ],
   "source": [
    "\n",
    "from langchain.vectorstores import Chroma\n",
    "from langchain.embeddings import OpenAIEmbeddings\n",
    "from langchain.document_loaders import TextLoader\n",
    "from langchain.document_loaders import DirectoryLoader\n",
    "from dotenv import load_dotenv\n",
    "\n",
    "\n",
    "load_dotenv(dotenv_path=\".env\",override=True)"
   ]
  },
  {
   "cell_type": "code",
   "execution_count": 3,
   "metadata": {},
   "outputs": [],
   "source": [
    "# Directory where the database will be saved for persistence\n",
    "persist_directory = 'db'\n",
    "\n",
    "# Load text files\n",
    "loader = DirectoryLoader('./RAG', glob=\"./*.txt\", loader_cls=TextLoader)\n"
   ]
  },
  {
   "cell_type": "code",
   "execution_count": 4,
   "metadata": {},
   "outputs": [
    {
     "name": "stderr",
     "output_type": "stream",
     "text": [
      "/var/folders/4f/xk0936hs0dggjdrb3_zxpmyr0000gn/T/ipykernel_7980/3060511041.py:5: LangChainDeprecationWarning: The class `OpenAIEmbeddings` was deprecated in LangChain 0.0.9 and will be removed in 1.0. An updated version of the class exists in the :class:`~langchain-openai package and should be used instead. To use it run `pip install -U :class:`~langchain-openai` and import as `from :class:`~langchain_openai import OpenAIEmbeddings``.\n",
      "  embedding = OpenAIEmbeddings()\n"
     ]
    }
   ],
   "source": [
    "# Load the documents using the DirectoryLoader\n",
    "documents = loader.load()\n",
    "\n",
    "# Initialize theOpenAI embedding \n",
    "embedding = OpenAIEmbeddings()\n",
    "\n"
   ]
  },
  {
   "cell_type": "code",
   "execution_count": 5,
   "metadata": {},
   "outputs": [],
   "source": [
    "# Create a Chroma vector database from the loaded documents\n",
    "vectordb = Chroma.from_documents(documents=documents,\n",
    "                                 embedding=embedding,\n",
    "                                  persist_directory='db' \n",
    ")\n",
    "\n"
   ]
  },
  {
   "cell_type": "code",
   "execution_count": 6,
   "metadata": {},
   "outputs": [
    {
     "name": "stderr",
     "output_type": "stream",
     "text": [
      "/var/folders/4f/xk0936hs0dggjdrb3_zxpmyr0000gn/T/ipykernel_7980/2083128404.py:2: LangChainDeprecationWarning: Since Chroma 0.4.x the manual persistence method is no longer supported as docs are automatically persisted.\n",
      "  vectordb.persist()\n"
     ]
    }
   ],
   "source": [
    "# persiste the db to disk\n",
    "vectordb.persist()\n",
    "vectordb = None"
   ]
  },
  {
   "cell_type": "code",
   "execution_count": null,
   "metadata": {},
   "outputs": [
    {
     "name": "stdout",
     "output_type": "stream",
     "text": [
      "<class 'langchain_core.documents.base.Document'> page_content='﻿Title: Anxiety  \n",
      "\n",
      "Anxiety definition:\n",
      "Anxiety is a feeling of fear, worry, or nervousness that often comes from stress. It can make someone sweat, feel restless or tense, and cause their heart to race.\n",
      "\n",
      "Symptoms of Anxiety:\n",
      "• Trouble thinking clearly or deciding things\n",
      "• Feeling annoyed, tense, or unable to stay still\n",
      "• Upset stomach or feeling sick\n",
      "• Fast or pounding heartbeat\n",
      "• Sweating, shaking, or trembling\n",
      "• Difficulty sleeping\n",
      "• Feeling like something bad is about to happen.\n",
      "\n",
      "Possible causes of Anxiety:\n",
      "• Anxiety happens because of a mix of social, emotional, and physical reasons. It’s more common in people who have gone through tough experiences like abuse, major losses, or other challenging events.\n",
      "• A history of anxiety in biological relatives.\n",
      "• Exposure to stressful and negative life or environmental events.\n",
      "\n",
      "How to manage and deal with Anxiety?\n",
      "• Learn relaxation techniques, such as slow breathing and progressive muscle relaxation.\n",
      "• Exercise regularly, even if it’s just a short walk.\n",
      "• Stick to regular eating and sleeping habits as much as possible and eat a healthy diet.\n",
      "• Develop the habit of mindfulness meditation, even if it’s just a few minutes per day.\n",
      "\n",
      "\n",
      "' metadata={'source': 'RAG/Anxiety.txt'}\n"
     ]
    }
   ],
   "source": [
    "print(type(documents[0]), documents[0])"
   ]
  },
  {
   "cell_type": "markdown",
   "metadata": {},
   "source": []
  },
  {
   "cell_type": "markdown",
   "metadata": {},
   "source": []
  }
 ],
 "metadata": {
  "kernelspec": {
   "display_name": "base",
   "language": "python",
   "name": "python3"
  },
  "language_info": {
   "codemirror_mode": {
    "name": "ipython",
    "version": 3
   },
   "file_extension": ".py",
   "mimetype": "text/x-python",
   "name": "python",
   "nbconvert_exporter": "python",
   "pygments_lexer": "ipython3",
   "version": "3.12.7"
  }
 },
 "nbformat": 4,
 "nbformat_minor": 2
}
