{
 "cells": [
  {
   "cell_type": "code",
   "execution_count": null,
   "metadata": {},
   "outputs": [
    {
     "data": {
      "text/plain": [
       "True"
      ]
     },
     "execution_count": 78,
     "metadata": {},
     "output_type": "execute_result"
    }
   ],
   "source": [
    "from langchain import hub\n",
    "from langchain.agents import AgentExecutor, create_react_agent\n",
    "from langchain_ollama import ChatOllama\n",
    "from langchain_community.tools.pubmed.tool import PubmedQueryRun\n",
    "from langchain_community.retrievers import PubMedRetriever\n",
    "# importing os module for environment variables\n",
    "import os\n",
    "# importing necessary functions from dotenv library\n",
    "from dotenv import load_dotenv, dotenv_values \n",
    "# loading variables from .env file\n",
    "load_dotenv() \n",
    "#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"
   ]
  },
  {
   "cell_type": "code",
   "execution_count": 1,
   "metadata": {},
   "outputs": [
    {
     "name": "stdout",
     "output_type": "stream",
     "text": [
      "zsh:1: command not found: pip\n"
     ]
    }
   ],
   "source": [
    "! pip install langchain\n"
   ]
  },
  {
   "cell_type": "code",
   "execution_count": 79,
   "metadata": {},
   "outputs": [
    {
     "name": "stdout",
     "output_type": "stream",
     "text": [
      "input_variables=['agent_scratchpad', 'input', 'tool_names', 'tools'] input_types={} partial_variables={} metadata={'lc_hub_owner': 'hwchase17', 'lc_hub_repo': 'react', 'lc_hub_commit_hash': 'd15fe3c426f1c4b3f37c9198853e4a86e20c425ca7f4752ec0c9b0e97ca7ea4d'} template='Answer the following questions as best you can. You have access to the following tools:\\n\\n{tools}\\n\\nUse the following format:\\n\\nQuestion: the input question you must answer\\nThought: you should always think about what to do\\nAction: the action to take, should be one of [{tool_names}]\\nAction Input: the input to the action\\nObservation: the result of the action\\n... (this Thought/Action/Action Input/Observation can repeat N times)\\nThought: I now know the final answer\\nFinal Answer: the final answer to the original input question\\n\\nBegin!\\n\\nQuestion: {input}\\nThought:{agent_scratchpad}'\n"
     ]
    }
   ],
   "source": [
    "# Get the prompt to use - you can modify this!\n",
    "prompt = hub.pull(\"hwchase17/react\")\n",
    "\n",
    "print(prompt)"
   ]
  },
  {
   "cell_type": "code",
   "execution_count": 80,
   "metadata": {},
   "outputs": [],
   "source": [
    "\n",
    "# Initialize the Llama model for conversational input\n",
    "llama_model = ChatOllama(model=\"llama3.2\", base_url=\"http://localhost:11434/\")\n"
   ]
  },
  {
   "cell_type": "code",
   "execution_count": null,
   "metadata": {},
   "outputs": [
    {
     "name": "stderr",
     "output_type": "stream",
     "text": [
      "C:\\Users\\Yarab\\AppData\\Local\\Temp\\ipykernel_84080\\693768585.py:24: LangChainDeprecationWarning: This class is deprecated. See the following migration guides for replacements based on `chain_type`:\n",
      "stuff: https://python.langchain.com/docs/versions/migrating_chains/stuff_docs_chain\n",
      "map_reduce: https://python.langchain.com/docs/versions/migrating_chains/map_reduce_chain\n",
      "refine: https://python.langchain.com/docs/versions/migrating_chains/refine_chain\n",
      "map_rerank: https://python.langchain.com/docs/versions/migrating_chains/map_rerank_docs_chain\n",
      "\n",
      "See also guides on retrieval and question-answering here: https://python.langchain.com/docs/how_to/#qa-with-rag\n",
      "  qa_chain = load_qa_chain(llm=self.llm, chain_type=\"stuff\")\n",
      "C:\\Users\\Yarab\\AppData\\Local\\Temp\\ipykernel_84080\\693768585.py:25: LangChainDeprecationWarning: The method `Chain.run` was deprecated in langchain 0.1.0 and will be removed in 1.0. Use :meth:`~invoke` instead.\n",
      "  answer = qa_chain.run(input_documents=documents, question=query)\n"
     ]
    },
    {
     "name": "stdout",
     "output_type": "stream",
     "text": [
      "I don't know about the \"latest\" treatments, but I can provide some information on recent developments and emerging therapies for anxiety.\n",
      "\n",
      "Anxiety is a complex mental health condition, and there is no single \"best\" treatment that works for everyone. However, here are some of the most promising and evidence-based treatments:\n",
      "\n",
      "1. **Pharmacological treatments:**\n",
      "\t* Selective serotonin reuptake inhibitors (SSRIs) like fluoxetine (Prozac), sertraline (Zoloft), and paroxetine (Paxil) remain popular for treating anxiety disorders.\n",
      "\t* Serotonin-norepinephrine reuptake inhibitors (SNRIs) like venlafaxine (Effexor) are also effective for some patients.\n",
      "\t* Benzodiazepines, such as alprazolam (Xanax), can provide quick relief from acute anxiety symptoms but are generally recommended for short-term use due to the risk of dependence and withdrawal.\n",
      "2. **Non-pharmacological treatments:**\n",
      "\t* Cognitive-behavioral therapy (CBT): This type of psychotherapy helps individuals identify and change negative thought patterns and behaviors that contribute to their anxiety.\n",
      "\t* Mindfulness-based therapies, such as mindfulness-based stress reduction (MBSR) or mindfulness-based cognitive therapy (MBCT), can also be effective in reducing anxiety symptoms.\n",
      "\t* Dialectical behavior therapy (DBT): This type of therapy combines CBT with techniques from acceptance and commitment therapy (ACT) to help individuals manage emotions and reduce self-destructive behaviors.\n",
      "3. **Emerging therapies:**\n",
      "\t* **Transcranial magnetic stimulation (TMS):** TMS uses magnetic fields to stimulate brain activity, which may help alleviate anxiety symptoms in some individuals.\n",
      "\t* **Vagus nerve stimulation (VNS):** VNS involves implanting a device that stimulates the vagus nerve, which can help regulate mood and reduce anxiety symptoms.\n",
      "\t* **Psychotherapy for specific phobias:** Exposure therapy is a type of CBT that involves gradual exposure to the feared stimulus in a controlled environment, which can be effective in reducing phobic responses.\n",
      "\n",
      "It's essential to note that each individual may respond differently to different treatments, and what works best will depend on the specific symptoms, severity, and underlying causes of anxiety. A mental health professional can help determine the most suitable treatment plan for each person.\n",
      "\n",
      "Additionally, while I don't have information on \"latest\" treatments, there are ongoing clinical trials exploring new therapies for anxiety, such as:\n",
      "\n",
      "* **Neurofeedback training:** This type of biofeedback involves using electroencephalography (EEG) to provide individuals with feedback on their brain activity, which can help them learn to regulate their brain function and reduce anxiety symptoms.\n",
      "* **Pharmacogenomics:** This approach involves identifying genetic markers that may predict how an individual will respond to specific medications, potentially leading to more personalized treatment plans.\n",
      "\n",
      "These emerging therapies are still being studied and may not yet be widely available. However, they hold promise for improving treatment options for individuals with anxiety disorders.\n"
     ]
    }
   ],
   "source": [
    "from langchain.retrievers import PubMedRetriever\n",
    "from langchain.tools import BaseTool\n",
    "from langchain.chains.question_answering import load_qa_chain\n",
    "from typing import Any\n",
    "\n",
    "class PubMedRAGTool(BaseTool):\n",
    "    name: str = \"PubMedRAGTool\"\n",
    "    description: str = \"Retrieves information from PubMed using a retrieval-augmented generation (RAG) approach with a LLaMA-based model.\"\n",
    "    retriever: PubMedRetriever\n",
    "    llm: Any\n",
    "\n",
    "    class Config:\n",
    "        arbitrary_types_allowed = True  # This allows non-Pydantic types like PubMedRetriever and LLaMA model\n",
    "\n",
    "    def __init__(self, retriever: PubMedRetriever, llm: Any):\n",
    "        super().__init__(retriever=retriever, llm=llm)  # Pass fields as kwargs to the BaseTool constructor\n",
    "\n",
    "    def _run(self, query: str) -> str:\n",
    "        # Step 1: Retrieve documents from PubMed\n",
    "        documents = self.retriever.get_relevant_documents(query)\n",
    "\n",
    "        # Step 2: Generate an answer using retrieved documents with a QA chain\n",
    "        if documents:\n",
    "            qa_chain = load_qa_chain(llm=self.llm, chain_type=\"stuff\")\n",
    "            answer = qa_chain.run(input_documents=documents, question=query)\n",
    "            return answer\n",
    "        else:\n",
    "            return \"No relevant information found in PubMed.\"\n",
    "\n",
    "# Instantiate the PubMedRetriever and LLaMA-based model\n",
    "pubmed_retriever = PubMedRetriever()\n",
    "\n",
    "# Create the RAG tool with your retriever and LLaMA model\n",
    "pubmed_rag_tool = PubMedRAGTool(retriever=pubmed_retriever, llm=llama_model)\n",
    "# Example usage\n",
    "query = \"What are the latest treatments for anxiety?\"\n",
    "result = pubmed_rag_tool._run(query)\n",
    "print(result)\n",
    "\n",
    "# Add this tool to your agent's tools list if needed\n",
    "tools = [pubmed_rag_tool]\n",
    "\n"
   ]
  },
  {
   "cell_type": "code",
   "execution_count": 95,
   "metadata": {},
   "outputs": [],
   "source": [
    "agent = create_react_agent(llama_model, prompt=prompt, tools=tools)"
   ]
  },
  {
   "cell_type": "code",
   "execution_count": null,
   "metadata": {},
   "outputs": [],
   "source": [
    "template=\"\"\"\n",
    "\n",
    "\n",
    "Answer the following questions as best you can. You have access to the following tools:\\n\\n{tools}\\n\\nUse the following format:\\n\\nQuestion: the input question you must answer\\nThought: you should always think about what to do\\nAction: the action to take, should be one of [{tool_names}]\\nAction Input: the input to the action\\nObservation: the result of the action\\n... (this Thought/Action/Action Input/Observation can repeat N times)\\nThought: I now know the final answer\\nFinal Answer: the final answer to the original input question\\n\\nBegin!\\n\\nQuestion: {input}\\nThought:{agent_scratchpad}'"
   ]
  },
  {
   "cell_type": "code",
   "execution_count": 96,
   "metadata": {},
   "outputs": [
    {
     "data": {
      "text/plain": [
       "RunnableAssign(mapper={\n",
       "  agent_scratchpad: RunnableLambda(lambda x: format_log_to_str(x['intermediate_steps']))\n",
       "})\n",
       "| PromptTemplate(input_variables=['agent_scratchpad', 'input'], input_types={}, partial_variables={'tools': 'PubMedRAGTool - Retrieves information from PubMed using a retrieval-augmented generation (RAG) approach with a LLaMA-based model.', 'tool_names': 'PubMedRAGTool'}, metadata={'lc_hub_owner': 'hwchase17', 'lc_hub_repo': 'react', 'lc_hub_commit_hash': 'd15fe3c426f1c4b3f37c9198853e4a86e20c425ca7f4752ec0c9b0e97ca7ea4d'}, template='Answer the following questions as best you can. You have access to the following tools:\\n\\n{tools}\\n\\nUse the following format:\\n\\nQuestion: the input question you must answer\\nThought: you should always think about what to do\\nAction: the action to take, should be one of [{tool_names}]\\nAction Input: the input to the action\\nObservation: the result of the action\\n... (this Thought/Action/Action Input/Observation can repeat N times)\\nThought: I now know the final answer\\nFinal Answer: the final answer to the original input question\\n\\nBegin!\\n\\nQuestion: {input}\\nThought:{agent_scratchpad}')\n",
       "| RunnableBinding(bound=ChatOllama(model='llama3.2', base_url='http://localhost:11434/'), kwargs={'stop': ['\\nObservation']}, config={}, config_factories=[])\n",
       "| ReActSingleInputOutputParser()"
      ]
     },
     "execution_count": 96,
     "metadata": {},
     "output_type": "execute_result"
    }
   ],
   "source": [
    "agent"
   ]
  },
  {
   "cell_type": "code",
   "execution_count": null,
   "metadata": {},
   "outputs": [
    {
     "name": "stdout",
     "output_type": "stream",
     "text": [
      "\n",
      "\n",
      "\u001b[1m> Entering new AgentExecutor chain...\u001b[0m\n",
      "\u001b[32;1m\u001b[1;3mQuestion: what is the meaning of stress?\n",
      "\n",
      "Thought: To find the definition of \"stress\", I need to use a search query that gets relevant results from PubMed.\n",
      "\n",
      "Action: pub_med\n",
      "Action Input: \"stress\"\u001b[0m\u001b[36;1m\u001b[1;3mPublished: --\n",
      "Title: Genome reduction improves octanoic acid production in scale down bioreactors.\n",
      "Copyright Information: © 2024 The Author(s). Microbial Biotechnology published by John Wiley & Sons Ltd.\n",
      "Summary::\n",
      "Microorganisms in large-scale bioreactors are exposed to heterogeneous environmental conditions due to physical mixing constraints. Nutritional gradients can lead to transient expression of energetically wasteful stress responses and as a result, can reduce the titres, rates and yields of a bioprocess at larger scales. To what extent these process parameters are impacted is often unknown and therefore bioprocess scale-up comes with major risk. Designing platform strains to account for these intermittent stresses before introducing synthesis pathways is one strategy for de-risking bioprocess development. For example, Escherichia coli strain RM214 is a derivative of wild-type MG1655 that has had several genes and whole operons removed from its genome based on their metabolic cost. In this study, we engineered E. coli strain RM214 (referred to as WG02) to produce octanoic acid from glycerol in batch-flask and fed-batch bioreactor cultivations and compared it to an octanoic acid-producing E. coli MG1655 (WG01). In batch flask cultivations, the two strains performed similarly. However, in carbon limited fed-batch bioreactor cultivations, WG02 provided a greater than 22% boost to biomass compared to WG01 while maintaining similar titres of octanoic acid. Reducing the biomass accumulation of WG02 with nitrogen limited fed-batch cultivation resulted in a 16% improvement in octanoic acid titre over WG01. Finally, in a scale-down system consisting of a stirred tank reactor (representing a well-mixed zone) and plug flow reactor (representing an intermittent carbon starvation zone), WG02 again improved octanoic acid titre by almost 18% while maintaining similar biomass concentrations as WG01.\n",
      "\n",
      "Published: 2024-11-07\n",
      "Title: Association Between Workplace Violence and Pos\u001b[0m\u001b[32;1m\u001b[1;3mQuestion: what is the meaning of stress?\n",
      "Thought: I now know the final answer\n",
      "\n",
      "Final Answer: The meaning of \"stress\" can refer to a state of mental or emotional strain caused by adverse events, situations, or pressures. It can also describe physical responses such as increased heart rate and blood pressure in response to a perceived threat or danger. In biological terms, stress is often associated with the activation of the hypothalamic-pituitary-adrenal (HPA) axis, leading to changes in hormone levels that prepare the body for \"fight or flight.\"\u001b[0m\n",
      "\n",
      "\u001b[1m> Finished chain.\u001b[0m\n"
     ]
    },
    {
     "data": {
      "text/plain": [
       "{'input': 'what is the meaning of stress?',\n",
       " 'output': 'The meaning of \"stress\" can refer to a state of mental or emotional strain caused by adverse events, situations, or pressures. It can also describe physical responses such as increased heart rate and blood pressure in response to a perceived threat or danger. In biological terms, stress is often associated with the activation of the hypothalamic-pituitary-adrenal (HPA) axis, leading to changes in hormone levels that prepare the body for \"fight or flight.\"'}"
      ]
     },
     "execution_count": 100,
     "metadata": {},
     "output_type": "execute_result"
    }
   ],
   "source": [
    "AgentExecutor(agent=agent, tools=tools, verbose=True, max_iterations=4)\n",
    "agent_executor.invoke({\"input\": \"what is the meaning of stress?\"})"
   ]
  },
  {
   "cell_type": "code",
   "execution_count": 4,
   "metadata": {},
   "outputs": [
    {
     "name": "stdout",
     "output_type": "stream",
     "text": [
      "SND\n"
     ]
    },
    {
     "data": {
      "text/plain": [
       "'true'"
      ]
     },
     "execution_count": 4,
     "metadata": {},
     "output_type": "execute_result"
    }
   ],
   "source": [
    "# accessing and printing value\n",
    "print(os.getenv(\"LANGCHAIN_PROJECT\"))\n",
    "x = os.getenv(\"LANGCHAIN_TRACING_V2\")\n",
    "\n",
    "x"
   ]
  },
  {
   "cell_type": "code",
   "execution_count": null,
   "metadata": {},
   "outputs": [],
   "source": []
  }
 ],
 "metadata": {
  "kernelspec": {
   "display_name": "Python 3",
   "language": "python",
   "name": "python3"
  },
  "language_info": {
   "codemirror_mode": {
    "name": "ipython",
    "version": 3
   },
   "file_extension": ".py",
   "mimetype": "text/x-python",
   "name": "python",
   "nbconvert_exporter": "python",
   "pygments_lexer": "ipython3",
   "version": "3.9.6"
  }
 },
 "nbformat": 4,
 "nbformat_minor": 2
}
